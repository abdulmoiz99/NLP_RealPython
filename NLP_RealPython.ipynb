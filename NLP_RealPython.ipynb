{
  "nbformat": 4,
  "nbformat_minor": 0,
  "metadata": {
    "colab": {
      "name": "NLP-RealPython",
      "provenance": [],
      "authorship_tag": "ABX9TyP/MupEKit10S3eliIX0Zda",
      "include_colab_link": true
    },
    "kernelspec": {
      "name": "python3",
      "display_name": "Python 3"
    },
    "language_info": {
      "name": "python"
    }
  },
  "cells": [
    {
      "cell_type": "markdown",
      "metadata": {
        "id": "view-in-github",
        "colab_type": "text"
      },
      "source": [
        "<a href=\"https://colab.research.google.com/github/abdulmoiz99/NLP_RealPython/blob/main/NLP_RealPython.ipynb\" target=\"_parent\"><img src=\"https://colab.research.google.com/assets/colab-badge.svg\" alt=\"Open In Colab\"/></a>"
      ]
    },
    {
      "cell_type": "code",
      "execution_count": 1,
      "metadata": {
        "id": "FXn1n1i6Dqq2",
        "colab": {
          "base_uri": "https://localhost:8080/"
        },
        "outputId": "6e7ca820-1d2b-4c04-b941-cd25dd016cf4"
      },
      "outputs": [
        {
          "output_type": "stream",
          "name": "stdout",
          "text": [
            "[nltk_data] Downloading package punkt to /root/nltk_data...\n",
            "[nltk_data]   Unzipping tokenizers/punkt.zip.\n"
          ]
        },
        {
          "output_type": "execute_result",
          "data": {
            "text/plain": [
              "True"
            ]
          },
          "metadata": {},
          "execution_count": 1
        }
      ],
      "source": [
        "from nltk.tokenize import sent_tokenize, word_tokenize\n",
        "import nltk\n",
        "nltk.download('punkt')"
      ]
    },
    {
      "cell_type": "code",
      "source": [
        "example_string = \"\"\"\n",
        "... Muad'Dib learned rapidly because his first training was in how to learn.\n",
        "... And the first lesson of all was the basic trust that he could learn.\n",
        "... It's shocking to find how many people do not believe they can learn,\n",
        "... and how many more believe learning to be difficult.\"\"\""
      ],
      "metadata": {
        "id": "MzbEwEgwDw-S"
      },
      "execution_count": 2,
      "outputs": []
    },
    {
      "cell_type": "code",
      "source": [
        "sent_tokenize(example_string)"
      ],
      "metadata": {
        "colab": {
          "base_uri": "https://localhost:8080/"
        },
        "id": "i9S6ALj-DzuK",
        "outputId": "e821f9ae-2e27-4f6a-9e31-d839e10115e9"
      },
      "execution_count": 3,
      "outputs": [
        {
          "output_type": "execute_result",
          "data": {
            "text/plain": [
              "[\"\\nMuad'Dib learned rapidly because his first training was in how to learn.\",\n",
              " 'And the first lesson of all was the basic trust that he could learn.',\n",
              " \"It's shocking to find how many people do not believe they can learn,\\nand how many more believe learning to be difficult.\"]"
            ]
          },
          "metadata": {},
          "execution_count": 3
        }
      ]
    },
    {
      "cell_type": "code",
      "source": [
        "word_tokenize(example_string)"
      ],
      "metadata": {
        "colab": {
          "base_uri": "https://localhost:8080/"
        },
        "id": "2LujM-ugHWO6",
        "outputId": "43cbe8fe-3e61-4f04-db63-c834ce58d097"
      },
      "execution_count": 4,
      "outputs": [
        {
          "output_type": "execute_result",
          "data": {
            "text/plain": [
              "[\"Muad'Dib\",\n",
              " 'learned',\n",
              " 'rapidly',\n",
              " 'because',\n",
              " 'his',\n",
              " 'first',\n",
              " 'training',\n",
              " 'was',\n",
              " 'in',\n",
              " 'how',\n",
              " 'to',\n",
              " 'learn',\n",
              " '.',\n",
              " 'And',\n",
              " 'the',\n",
              " 'first',\n",
              " 'lesson',\n",
              " 'of',\n",
              " 'all',\n",
              " 'was',\n",
              " 'the',\n",
              " 'basic',\n",
              " 'trust',\n",
              " 'that',\n",
              " 'he',\n",
              " 'could',\n",
              " 'learn',\n",
              " '.',\n",
              " 'It',\n",
              " \"'s\",\n",
              " 'shocking',\n",
              " 'to',\n",
              " 'find',\n",
              " 'how',\n",
              " 'many',\n",
              " 'people',\n",
              " 'do',\n",
              " 'not',\n",
              " 'believe',\n",
              " 'they',\n",
              " 'can',\n",
              " 'learn',\n",
              " ',',\n",
              " 'and',\n",
              " 'how',\n",
              " 'many',\n",
              " 'more',\n",
              " 'believe',\n",
              " 'learning',\n",
              " 'to',\n",
              " 'be',\n",
              " 'difficult',\n",
              " '.']"
            ]
          },
          "metadata": {},
          "execution_count": 4
        }
      ]
    },
    {
      "cell_type": "code",
      "source": [
        "nltk.download(\"stopwords\")\n",
        "from nltk.corpus import stopwords\n",
        "from nltk.tokenize import word_tokenize"
      ],
      "metadata": {
        "colab": {
          "base_uri": "https://localhost:8080/"
        },
        "id": "2EaQtb9VHiQA",
        "outputId": "0dd92a4b-dea8-4f38-9f82-0ce1075842d9"
      },
      "execution_count": 5,
      "outputs": [
        {
          "output_type": "stream",
          "name": "stdout",
          "text": [
            "[nltk_data] Downloading package stopwords to /root/nltk_data...\n",
            "[nltk_data]   Unzipping corpora/stopwords.zip.\n"
          ]
        }
      ]
    },
    {
      "cell_type": "code",
      "source": [
        "example =\" Sir, I protest. I am not a merry man!\""
      ],
      "metadata": {
        "id": "_5dUGqsJHiF6"
      },
      "execution_count": 6,
      "outputs": []
    },
    {
      "cell_type": "code",
      "source": [
        "words_in_quote = word_tokenize(example)\n",
        "words_in_quote"
      ],
      "metadata": {
        "colab": {
          "base_uri": "https://localhost:8080/"
        },
        "id": "pFxPPTOiHiCr",
        "outputId": "9f0e13de-e89c-4c6c-8704-d541cb6cddd7"
      },
      "execution_count": 7,
      "outputs": [
        {
          "output_type": "execute_result",
          "data": {
            "text/plain": [
              "['Sir', ',', 'I', 'protest', '.', 'I', 'am', 'not', 'a', 'merry', 'man', '!']"
            ]
          },
          "metadata": {},
          "execution_count": 7
        }
      ]
    },
    {
      "cell_type": "code",
      "source": [
        "stop_words = set(stopwords.words(\"english\"))"
      ],
      "metadata": {
        "id": "hDQifqkkHh-y"
      },
      "execution_count": 8,
      "outputs": []
    },
    {
      "cell_type": "code",
      "source": [
        "filtered_list = []"
      ],
      "metadata": {
        "id": "SjLFApu2Igju"
      },
      "execution_count": 9,
      "outputs": []
    },
    {
      "cell_type": "code",
      "source": [
        "for word in words_in_quote:\n",
        "  if word.casefold() not in stop_words:\n",
        "    filtered_list.append(word)"
      ],
      "metadata": {
        "id": "d2O3w2MHIggw"
      },
      "execution_count": 10,
      "outputs": []
    },
    {
      "cell_type": "code",
      "source": [
        "filtered_list"
      ],
      "metadata": {
        "colab": {
          "base_uri": "https://localhost:8080/"
        },
        "id": "Of-6XVjWIgbW",
        "outputId": "de3c1c40-daa2-45f8-cecb-9001cc295cb4"
      },
      "execution_count": 11,
      "outputs": [
        {
          "output_type": "execute_result",
          "data": {
            "text/plain": [
              "['Sir', ',', 'protest', '.', 'merry', 'man', '!']"
            ]
          },
          "metadata": {},
          "execution_count": 11
        }
      ]
    },
    {
      "cell_type": "code",
      "source": [
        "from nltk.stem import PorterStemmer\n"
      ],
      "metadata": {
        "id": "snjC2nFeIgYs"
      },
      "execution_count": 12,
      "outputs": []
    },
    {
      "cell_type": "code",
      "source": [
        "stemmer = PorterStemmer()"
      ],
      "metadata": {
        "id": "Fn6qsGviIgPc"
      },
      "execution_count": 13,
      "outputs": []
    },
    {
      "cell_type": "code",
      "source": [
        "string_for_stemming = \"\"\"\n",
        "... The crew of the USS Discovery discovered many discoveries.\n",
        "... Discovering is what explorers do.\"\"\""
      ],
      "metadata": {
        "id": "baXBSos5KVb5"
      },
      "execution_count": 14,
      "outputs": []
    },
    {
      "cell_type": "code",
      "source": [
        "words = word_tokenize(string_for_stemming)"
      ],
      "metadata": {
        "id": "tJEvSLPlKVY4"
      },
      "execution_count": 15,
      "outputs": []
    },
    {
      "cell_type": "code",
      "source": [
        "stemmed_words = [stemmer.stem(word) for word in words]"
      ],
      "metadata": {
        "id": "GohT1_4NKVVl"
      },
      "execution_count": 16,
      "outputs": []
    },
    {
      "cell_type": "code",
      "source": [
        "stemmed_words"
      ],
      "metadata": {
        "colab": {
          "base_uri": "https://localhost:8080/"
        },
        "id": "5RhoRHKpKVTS",
        "outputId": "ece0e97d-3727-4f7c-974d-44abfbaa9f7e"
      },
      "execution_count": 17,
      "outputs": [
        {
          "output_type": "execute_result",
          "data": {
            "text/plain": [
              "['the',\n",
              " 'crew',\n",
              " 'of',\n",
              " 'the',\n",
              " 'uss',\n",
              " 'discoveri',\n",
              " 'discov',\n",
              " 'mani',\n",
              " 'discoveri',\n",
              " '.',\n",
              " 'discov',\n",
              " 'is',\n",
              " 'what',\n",
              " 'explor',\n",
              " 'do',\n",
              " '.']"
            ]
          },
          "metadata": {},
          "execution_count": 17
        }
      ]
    },
    {
      "cell_type": "code",
      "source": [
        "sagan_quote = \"\"\"\n",
        "... If you wish to make an apple pie from scratch,\n",
        "... you must first invent the universe.\"\"\""
      ],
      "metadata": {
        "id": "c0Vp5FAVKVQR"
      },
      "execution_count": 18,
      "outputs": []
    },
    {
      "cell_type": "code",
      "source": [
        "import nltk\n",
        "nltk.download('averaged_perceptron_tagger')"
      ],
      "metadata": {
        "colab": {
          "base_uri": "https://localhost:8080/"
        },
        "id": "BZ0J8X02STiY",
        "outputId": "7f7f2bc3-b016-4d29-c15d-f0d519165ee4"
      },
      "execution_count": 19,
      "outputs": [
        {
          "output_type": "stream",
          "name": "stdout",
          "text": [
            "[nltk_data] Downloading package averaged_perceptron_tagger to\n",
            "[nltk_data]     /root/nltk_data...\n",
            "[nltk_data]   Unzipping taggers/averaged_perceptron_tagger.zip.\n"
          ]
        },
        {
          "output_type": "execute_result",
          "data": {
            "text/plain": [
              "True"
            ]
          },
          "metadata": {},
          "execution_count": 19
        }
      ]
    },
    {
      "cell_type": "code",
      "source": [
        "words = word_tokenize(sagan_quote)"
      ],
      "metadata": {
        "id": "fn5dHMGzKVNm"
      },
      "execution_count": 20,
      "outputs": []
    },
    {
      "cell_type": "code",
      "source": [
        "nltk.pos_tag(words)"
      ],
      "metadata": {
        "colab": {
          "base_uri": "https://localhost:8080/"
        },
        "id": "iTvKTQEqKVKv",
        "outputId": "e8bef1cf-5227-4950-8c00-118f0d969a8e"
      },
      "execution_count": 21,
      "outputs": [
        {
          "output_type": "execute_result",
          "data": {
            "text/plain": [
              "[('If', 'IN'),\n",
              " ('you', 'PRP'),\n",
              " ('wish', 'VBP'),\n",
              " ('to', 'TO'),\n",
              " ('make', 'VB'),\n",
              " ('an', 'DT'),\n",
              " ('apple', 'NN'),\n",
              " ('pie', 'NN'),\n",
              " ('from', 'IN'),\n",
              " ('scratch', 'NN'),\n",
              " (',', ','),\n",
              " ('you', 'PRP'),\n",
              " ('must', 'MD'),\n",
              " ('first', 'VB'),\n",
              " ('invent', 'VB'),\n",
              " ('the', 'DT'),\n",
              " ('universe', 'NN'),\n",
              " ('.', '.')]"
            ]
          },
          "metadata": {},
          "execution_count": 21
        }
      ]
    },
    {
      "cell_type": "code",
      "source": [
        "jabberwocky_excerpt = \"\"\"\n",
        "... 'Twas brillig, and the slithy toves did gyre and gimble in the wabe:\n",
        "... all mimsy were the borogoves, and the mome raths outgrabe.\"\"\""
      ],
      "metadata": {
        "id": "HA1C1VLbKVHe"
      },
      "execution_count": 22,
      "outputs": []
    },
    {
      "cell_type": "code",
      "source": [
        "words_in_excerpt = word_tokenize(jabberwocky_excerpt)"
      ],
      "metadata": {
        "id": "YLf_oZVwKVEz"
      },
      "execution_count": 23,
      "outputs": []
    },
    {
      "cell_type": "code",
      "source": [
        "nltk.pos_tag(words_in_excerpt)"
      ],
      "metadata": {
        "colab": {
          "base_uri": "https://localhost:8080/"
        },
        "id": "ku1rouZYW52C",
        "outputId": "60550d7d-b1fa-4a13-944e-7374bcd4ddf7"
      },
      "execution_count": 24,
      "outputs": [
        {
          "output_type": "execute_result",
          "data": {
            "text/plain": [
              "[(\"'Twas\", 'CD'),\n",
              " ('brillig', 'NN'),\n",
              " (',', ','),\n",
              " ('and', 'CC'),\n",
              " ('the', 'DT'),\n",
              " ('slithy', 'JJ'),\n",
              " ('toves', 'NNS'),\n",
              " ('did', 'VBD'),\n",
              " ('gyre', 'NN'),\n",
              " ('and', 'CC'),\n",
              " ('gimble', 'JJ'),\n",
              " ('in', 'IN'),\n",
              " ('the', 'DT'),\n",
              " ('wabe', 'NN'),\n",
              " (':', ':'),\n",
              " ('all', 'DT'),\n",
              " ('mimsy', 'NNS'),\n",
              " ('were', 'VBD'),\n",
              " ('the', 'DT'),\n",
              " ('borogoves', 'NNS'),\n",
              " (',', ','),\n",
              " ('and', 'CC'),\n",
              " ('the', 'DT'),\n",
              " ('mome', 'JJ'),\n",
              " ('raths', 'NNS'),\n",
              " ('outgrabe', 'RB'),\n",
              " ('.', '.')]"
            ]
          },
          "metadata": {},
          "execution_count": 24
        }
      ]
    },
    {
      "cell_type": "code",
      "source": [
        "from nltk.stem import WordNetLemmatizer\n",
        "nltk.download('wordnet')"
      ],
      "metadata": {
        "colab": {
          "base_uri": "https://localhost:8080/"
        },
        "id": "5Zrr7wQ3W5yF",
        "outputId": "3591887b-363c-439e-d484-1aa9afd012cf"
      },
      "execution_count": 25,
      "outputs": [
        {
          "output_type": "stream",
          "name": "stdout",
          "text": [
            "[nltk_data] Downloading package wordnet to /root/nltk_data...\n",
            "[nltk_data]   Unzipping corpora/wordnet.zip.\n"
          ]
        },
        {
          "output_type": "execute_result",
          "data": {
            "text/plain": [
              "True"
            ]
          },
          "metadata": {},
          "execution_count": 25
        }
      ]
    },
    {
      "cell_type": "code",
      "source": [
        "lemmatizer = WordNetLemmatizer()"
      ],
      "metadata": {
        "id": "Opz1mwTfW5vJ"
      },
      "execution_count": 26,
      "outputs": []
    },
    {
      "cell_type": "code",
      "source": [
        "lemmatizer.lemmatize(\"scarves\")"
      ],
      "metadata": {
        "colab": {
          "base_uri": "https://localhost:8080/",
          "height": 35
        },
        "id": "BV_ZnauSW5sM",
        "outputId": "55445e32-55fa-4667-f5c8-b44fee138163"
      },
      "execution_count": 27,
      "outputs": [
        {
          "output_type": "execute_result",
          "data": {
            "application/vnd.google.colaboratory.intrinsic+json": {
              "type": "string"
            },
            "text/plain": [
              "'scarf'"
            ]
          },
          "metadata": {},
          "execution_count": 27
        }
      ]
    },
    {
      "cell_type": "code",
      "source": [
        "string_for_lemmatize = \"The friends of DeSoto live scarves\""
      ],
      "metadata": {
        "id": "cbdOTJg5W5pX"
      },
      "execution_count": 28,
      "outputs": []
    },
    {
      "cell_type": "code",
      "source": [
        "words = word_tokenize(string_for_lemmatize)"
      ],
      "metadata": {
        "id": "UoDutAkFW5mb"
      },
      "execution_count": 29,
      "outputs": []
    },
    {
      "cell_type": "code",
      "source": [
        "words"
      ],
      "metadata": {
        "colab": {
          "base_uri": "https://localhost:8080/"
        },
        "id": "4c_5Gq4WW5jS",
        "outputId": "11aaf2ba-e819-4720-eb6f-daa4646f2d83"
      },
      "execution_count": 30,
      "outputs": [
        {
          "output_type": "execute_result",
          "data": {
            "text/plain": [
              "['The', 'friends', 'of', 'DeSoto', 'live', 'scarves']"
            ]
          },
          "metadata": {},
          "execution_count": 30
        }
      ]
    },
    {
      "cell_type": "code",
      "source": [
        "lemmatized_words = [lemmatizer.lemmatize(word) for word in words]"
      ],
      "metadata": {
        "id": "MKg17LISW5gM"
      },
      "execution_count": 31,
      "outputs": []
    },
    {
      "cell_type": "code",
      "source": [
        "lemmatized_words"
      ],
      "metadata": {
        "colab": {
          "base_uri": "https://localhost:8080/"
        },
        "id": "Alc8euG7W5df",
        "outputId": "a6739a65-92ae-4d94-b2e9-e0e3059b1512"
      },
      "execution_count": 32,
      "outputs": [
        {
          "output_type": "execute_result",
          "data": {
            "text/plain": [
              "['The', 'friend', 'of', 'DeSoto', 'live', 'scarf']"
            ]
          },
          "metadata": {},
          "execution_count": 32
        }
      ]
    },
    {
      "cell_type": "code",
      "source": [
        "lemmatizer.lemmatize(\"worst\", pos = \"a\")"
      ],
      "metadata": {
        "colab": {
          "base_uri": "https://localhost:8080/",
          "height": 35
        },
        "id": "kz-4vhfPW5ai",
        "outputId": "080bef06-5b27-4b4c-ad6c-3b22e5b5842d"
      },
      "execution_count": 33,
      "outputs": [
        {
          "output_type": "execute_result",
          "data": {
            "application/vnd.google.colaboratory.intrinsic+json": {
              "type": "string"
            },
            "text/plain": [
              "'bad'"
            ]
          },
          "metadata": {},
          "execution_count": 33
        }
      ]
    },
    {
      "cell_type": "code",
      "source": [
        "lotr_quote = \"It's a dangerous business, Frodo, going out your door.\""
      ],
      "metadata": {
        "id": "-2TrKhwGZroP"
      },
      "execution_count": 34,
      "outputs": []
    },
    {
      "cell_type": "code",
      "source": [
        "words_in_lotr_quote = word_tokenize(lotr_quote)"
      ],
      "metadata": {
        "id": "e_lM12YNZr3y"
      },
      "execution_count": 35,
      "outputs": []
    },
    {
      "cell_type": "code",
      "source": [
        "lotr_pos_tags = nltk.pos_tag(words_in_lotr_quote)\n",
        "lotr_pos_tags"
      ],
      "metadata": {
        "colab": {
          "base_uri": "https://localhost:8080/"
        },
        "id": "YaCECTK7ZsMn",
        "outputId": "6c0f34d3-54ad-4bac-ca94-1e4a734de0b2"
      },
      "execution_count": 36,
      "outputs": [
        {
          "output_type": "execute_result",
          "data": {
            "text/plain": [
              "[('It', 'PRP'),\n",
              " (\"'s\", 'VBZ'),\n",
              " ('a', 'DT'),\n",
              " ('dangerous', 'JJ'),\n",
              " ('business', 'NN'),\n",
              " (',', ','),\n",
              " ('Frodo', 'NNP'),\n",
              " (',', ','),\n",
              " ('going', 'VBG'),\n",
              " ('out', 'RP'),\n",
              " ('your', 'PRP$'),\n",
              " ('door', 'NN'),\n",
              " ('.', '.')]"
            ]
          },
          "metadata": {},
          "execution_count": 36
        }
      ]
    },
    {
      "cell_type": "code",
      "source": [
        "grammer = \"NP: {<DT>?<JJ>*<NN>}\""
      ],
      "metadata": {
        "id": "mTPbvK-dZsTk"
      },
      "execution_count": 37,
      "outputs": []
    },
    {
      "cell_type": "code",
      "source": [
        "chunk_parser = nltk.RegexpParser(grammer)"
      ],
      "metadata": {
        "id": "ME6pmyEYZsXV"
      },
      "execution_count": 38,
      "outputs": []
    },
    {
      "cell_type": "code",
      "source": [
        "tree = chunk_parser.parse(lotr_pos_tags)"
      ],
      "metadata": {
        "id": "5iDiG4ysZsam"
      },
      "execution_count": 39,
      "outputs": []
    },
    {
      "cell_type": "code",
      "source": [
        "tree.draw"
      ],
      "metadata": {
        "colab": {
          "base_uri": "https://localhost:8080/"
        },
        "id": "HLQ9NowQZsdx",
        "outputId": "e3a190ec-9559-4448-acfb-9dcefb7df4a9"
      },
      "execution_count": 40,
      "outputs": [
        {
          "output_type": "execute_result",
          "data": {
            "text/plain": [
              "<bound method Tree.draw of Tree('S', [('It', 'PRP'), (\"'s\", 'VBZ'), Tree('NP', [('a', 'DT'), ('dangerous', 'JJ'), ('business', 'NN')]), (',', ','), ('Frodo', 'NNP'), (',', ','), ('going', 'VBG'), ('out', 'RP'), ('your', 'PRP$'), Tree('NP', [('door', 'NN')]), ('.', '.')])>"
            ]
          },
          "metadata": {},
          "execution_count": 40
        }
      ]
    },
    {
      "cell_type": "code",
      "source": [
        "grammer = \"\"\"\n",
        "... Chunk: {<.*>+}\n",
        "...        }<JJ>{\"\"\""
      ],
      "metadata": {
        "id": "HJTq4BZeZsg7"
      },
      "execution_count": 41,
      "outputs": []
    },
    {
      "cell_type": "code",
      "source": [
        "chunk_parser = nltk.RegexpParser(grammer)"
      ],
      "metadata": {
        "id": "weirazaoZsj_"
      },
      "execution_count": 42,
      "outputs": []
    },
    {
      "cell_type": "code",
      "source": [
        "tree = chunk_parser.parse(lotr_pos_tags)"
      ],
      "metadata": {
        "id": "So5jpFYWZsms"
      },
      "execution_count": 43,
      "outputs": []
    },
    {
      "cell_type": "code",
      "source": [
        "nltk.download(\"maxent_ne_chunker\")\n",
        "nltk.download(\"words\")\n",
        "tree = nltk.ne_chunk(lotr_pos_tags)"
      ],
      "metadata": {
        "colab": {
          "base_uri": "https://localhost:8080/"
        },
        "id": "ONgKPK_RcIXT",
        "outputId": "ba958b0a-ccec-47a1-de5f-97bbf5945b3b"
      },
      "execution_count": 44,
      "outputs": [
        {
          "output_type": "stream",
          "name": "stdout",
          "text": [
            "[nltk_data] Downloading package maxent_ne_chunker to\n",
            "[nltk_data]     /root/nltk_data...\n",
            "[nltk_data]   Unzipping chunkers/maxent_ne_chunker.zip.\n",
            "[nltk_data] Downloading package words to /root/nltk_data...\n",
            "[nltk_data]   Unzipping corpora/words.zip.\n"
          ]
        }
      ]
    },
    {
      "cell_type": "code",
      "source": [
        "tree.draw"
      ],
      "metadata": {
        "colab": {
          "base_uri": "https://localhost:8080/"
        },
        "id": "sFzvVV98cIno",
        "outputId": "21a0516a-5d03-4184-9f3b-2d803068c16e"
      },
      "execution_count": 45,
      "outputs": [
        {
          "output_type": "execute_result",
          "data": {
            "text/plain": [
              "<bound method Tree.draw of Tree('S', [('It', 'PRP'), (\"'s\", 'VBZ'), ('a', 'DT'), ('dangerous', 'JJ'), ('business', 'NN'), (',', ','), Tree('PERSON', [('Frodo', 'NNP')]), (',', ','), ('going', 'VBG'), ('out', 'RP'), ('your', 'PRP$'), ('door', 'NN'), ('.', '.')])>"
            ]
          },
          "metadata": {},
          "execution_count": 45
        }
      ]
    },
    {
      "cell_type": "code",
      "source": [
        "quote = \"\"\"\n",
        "... Men like Schiaparelli watched the red planet—it is odd, by-the-bye, that\n",
        "... for countless centuries Mars has been the star of war—but failed to\n",
        "... interpret the fluctuating appearances of the markings they mapped so well.\n",
        "... All that time the Martians must have been getting ready.\n",
        "...\n",
        "... During the opposition of 1894 a great light was seen on the illuminated\n",
        "... part of the disk, first at the Lick Observatory, then by Perrotin of Nice,\n",
        "... and then by other observers. English readers heard of it first in the\n",
        "... issue of Nature dated August 2.\"\"\""
      ],
      "metadata": {
        "id": "lDuUKihMcIze"
      },
      "execution_count": 46,
      "outputs": []
    },
    {
      "cell_type": "code",
      "source": [
        "import nltk\n",
        "nltk.download('punkt')"
      ],
      "metadata": {
        "colab": {
          "base_uri": "https://localhost:8080/"
        },
        "id": "J1i6Y1Phe9s-",
        "outputId": "86911820-5486-4cdc-eecf-f3fb7de03bf6"
      },
      "execution_count": 58,
      "outputs": [
        {
          "output_type": "stream",
          "name": "stdout",
          "text": [
            "[nltk_data] Downloading package punkt to /root/nltk_data...\n",
            "[nltk_data]   Package punkt is already up-to-date!\n"
          ]
        },
        {
          "output_type": "execute_result",
          "data": {
            "text/plain": [
              "True"
            ]
          },
          "metadata": {},
          "execution_count": 58
        }
      ]
    },
    {
      "cell_type": "code",
      "source": [
        "def extract_ne(quote):\n",
        "     words = word_tokenize(quote)\n",
        "     tags = nltk.pos_tag(words)\n",
        "     tree = nltk.ne_chunk(tags, binary=True)\n",
        "     return set(\n",
        "         \" \".join(i[0] for i in t)\n",
        "         for t in tree\n",
        "         if hasattr(t, \"label\") and t.label() == \"NE\"\n",
        "     )"
      ],
      "metadata": {
        "id": "nlBdMyIicI91"
      },
      "execution_count": 66,
      "outputs": []
    },
    {
      "cell_type": "code",
      "source": [
        "extract_ne(quote)"
      ],
      "metadata": {
        "colab": {
          "base_uri": "https://localhost:8080/"
        },
        "id": "1NbhMeY7ifRi",
        "outputId": "c5120027-4c76-4bd0-df5e-a165b96910cd"
      },
      "execution_count": 67,
      "outputs": [
        {
          "output_type": "execute_result",
          "data": {
            "text/plain": [
              "{'Lick Observatory', 'Mars', 'Nature', 'Perrotin', 'Schiaparelli'}"
            ]
          },
          "metadata": {},
          "execution_count": 67
        }
      ]
    },
    {
      "cell_type": "code",
      "source": [
        "nltk.download(\"book\")\n",
        "from nltk.book import *"
      ],
      "metadata": {
        "colab": {
          "base_uri": "https://localhost:8080/"
        },
        "id": "JN_gPmktgh5C",
        "outputId": "6d0454c3-ed67-4b8c-db75-5d20e0b845c6"
      },
      "execution_count": 69,
      "outputs": [
        {
          "output_type": "stream",
          "name": "stdout",
          "text": [
            "[nltk_data] Downloading collection 'book'\n",
            "[nltk_data]    | \n",
            "[nltk_data]    | Downloading package abc to /root/nltk_data...\n",
            "[nltk_data]    |   Package abc is already up-to-date!\n",
            "[nltk_data]    | Downloading package brown to /root/nltk_data...\n",
            "[nltk_data]    |   Package brown is already up-to-date!\n",
            "[nltk_data]    | Downloading package chat80 to /root/nltk_data...\n",
            "[nltk_data]    |   Package chat80 is already up-to-date!\n",
            "[nltk_data]    | Downloading package cmudict to /root/nltk_data...\n",
            "[nltk_data]    |   Package cmudict is already up-to-date!\n",
            "[nltk_data]    | Downloading package conll2000 to /root/nltk_data...\n",
            "[nltk_data]    |   Package conll2000 is already up-to-date!\n",
            "[nltk_data]    | Downloading package conll2002 to /root/nltk_data...\n",
            "[nltk_data]    |   Package conll2002 is already up-to-date!\n",
            "[nltk_data]    | Downloading package dependency_treebank to\n",
            "[nltk_data]    |     /root/nltk_data...\n",
            "[nltk_data]    |   Package dependency_treebank is already up-to-date!\n",
            "[nltk_data]    | Downloading package genesis to /root/nltk_data...\n",
            "[nltk_data]    |   Package genesis is already up-to-date!\n",
            "[nltk_data]    | Downloading package gutenberg to /root/nltk_data...\n",
            "[nltk_data]    |   Package gutenberg is already up-to-date!\n",
            "[nltk_data]    | Downloading package ieer to /root/nltk_data...\n",
            "[nltk_data]    |   Package ieer is already up-to-date!\n",
            "[nltk_data]    | Downloading package inaugural to /root/nltk_data...\n",
            "[nltk_data]    |   Package inaugural is already up-to-date!\n",
            "[nltk_data]    | Downloading package movie_reviews to\n",
            "[nltk_data]    |     /root/nltk_data...\n",
            "[nltk_data]    |   Package movie_reviews is already up-to-date!\n",
            "[nltk_data]    | Downloading package nps_chat to /root/nltk_data...\n",
            "[nltk_data]    |   Package nps_chat is already up-to-date!\n",
            "[nltk_data]    | Downloading package names to /root/nltk_data...\n",
            "[nltk_data]    |   Package names is already up-to-date!\n",
            "[nltk_data]    | Downloading package ppattach to /root/nltk_data...\n",
            "[nltk_data]    |   Package ppattach is already up-to-date!\n",
            "[nltk_data]    | Downloading package reuters to /root/nltk_data...\n",
            "[nltk_data]    |   Package reuters is already up-to-date!\n",
            "[nltk_data]    | Downloading package senseval to /root/nltk_data...\n",
            "[nltk_data]    |   Package senseval is already up-to-date!\n",
            "[nltk_data]    | Downloading package state_union to /root/nltk_data...\n",
            "[nltk_data]    |   Package state_union is already up-to-date!\n",
            "[nltk_data]    | Downloading package stopwords to /root/nltk_data...\n",
            "[nltk_data]    |   Package stopwords is already up-to-date!\n",
            "[nltk_data]    | Downloading package swadesh to /root/nltk_data...\n",
            "[nltk_data]    |   Package swadesh is already up-to-date!\n",
            "[nltk_data]    | Downloading package timit to /root/nltk_data...\n",
            "[nltk_data]    |   Package timit is already up-to-date!\n",
            "[nltk_data]    | Downloading package treebank to /root/nltk_data...\n",
            "[nltk_data]    |   Package treebank is already up-to-date!\n",
            "[nltk_data]    | Downloading package toolbox to /root/nltk_data...\n",
            "[nltk_data]    |   Package toolbox is already up-to-date!\n",
            "[nltk_data]    | Downloading package udhr to /root/nltk_data...\n",
            "[nltk_data]    |   Package udhr is already up-to-date!\n",
            "[nltk_data]    | Downloading package udhr2 to /root/nltk_data...\n",
            "[nltk_data]    |   Package udhr2 is already up-to-date!\n",
            "[nltk_data]    | Downloading package unicode_samples to\n",
            "[nltk_data]    |     /root/nltk_data...\n",
            "[nltk_data]    |   Package unicode_samples is already up-to-date!\n",
            "[nltk_data]    | Downloading package webtext to /root/nltk_data...\n",
            "[nltk_data]    |   Package webtext is already up-to-date!\n",
            "[nltk_data]    | Downloading package wordnet to /root/nltk_data...\n",
            "[nltk_data]    |   Package wordnet is already up-to-date!\n",
            "[nltk_data]    | Downloading package wordnet_ic to /root/nltk_data...\n",
            "[nltk_data]    |   Package wordnet_ic is already up-to-date!\n",
            "[nltk_data]    | Downloading package words to /root/nltk_data...\n",
            "[nltk_data]    |   Package words is already up-to-date!\n",
            "[nltk_data]    | Downloading package maxent_treebank_pos_tagger to\n",
            "[nltk_data]    |     /root/nltk_data...\n",
            "[nltk_data]    |   Package maxent_treebank_pos_tagger is already up-\n",
            "[nltk_data]    |       to-date!\n",
            "[nltk_data]    | Downloading package maxent_ne_chunker to\n",
            "[nltk_data]    |     /root/nltk_data...\n",
            "[nltk_data]    |   Package maxent_ne_chunker is already up-to-date!\n",
            "[nltk_data]    | Downloading package universal_tagset to\n",
            "[nltk_data]    |     /root/nltk_data...\n",
            "[nltk_data]    |   Package universal_tagset is already up-to-date!\n",
            "[nltk_data]    | Downloading package punkt to /root/nltk_data...\n",
            "[nltk_data]    |   Package punkt is already up-to-date!\n",
            "[nltk_data]    | Downloading package book_grammars to\n",
            "[nltk_data]    |     /root/nltk_data...\n",
            "[nltk_data]    |   Package book_grammars is already up-to-date!\n",
            "[nltk_data]    | Downloading package city_database to\n",
            "[nltk_data]    |     /root/nltk_data...\n",
            "[nltk_data]    |   Package city_database is already up-to-date!\n",
            "[nltk_data]    | Downloading package tagsets to /root/nltk_data...\n",
            "[nltk_data]    |   Package tagsets is already up-to-date!\n",
            "[nltk_data]    | Downloading package panlex_swadesh to\n",
            "[nltk_data]    |     /root/nltk_data...\n",
            "[nltk_data]    |   Package panlex_swadesh is already up-to-date!\n",
            "[nltk_data]    | Downloading package averaged_perceptron_tagger to\n",
            "[nltk_data]    |     /root/nltk_data...\n",
            "[nltk_data]    |   Package averaged_perceptron_tagger is already up-\n",
            "[nltk_data]    |       to-date!\n",
            "[nltk_data]    | \n",
            "[nltk_data]  Done downloading collection book\n",
            "*** Introductory Examples for the NLTK Book ***\n",
            "Loading text1, ..., text9 and sent1, ..., sent9\n",
            "Type the name of the text or sentence to view it.\n",
            "Type: 'texts()' or 'sents()' to list the materials.\n",
            "text1: Moby Dick by Herman Melville 1851\n",
            "text2: Sense and Sensibility by Jane Austen 1811\n",
            "text3: The Book of Genesis\n",
            "text4: Inaugural Address Corpus\n",
            "text5: Chat Corpus\n",
            "text6: Monty Python and the Holy Grail\n",
            "text7: Wall Street Journal\n",
            "text8: Personals Corpus\n",
            "text9: The Man Who Was Thursday by G . K . Chesterton 1908\n"
          ]
        }
      ]
    },
    {
      "cell_type": "code",
      "source": [
        "text8.concordance(\"man\")"
      ],
      "metadata": {
        "colab": {
          "base_uri": "https://localhost:8080/"
        },
        "id": "OuMK7rzBhDYE",
        "outputId": "fe340838-f56a-4506-ea89-52b914f96636"
      },
      "execution_count": 70,
      "outputs": [
        {
          "output_type": "stream",
          "name": "stdout",
          "text": [
            "Displaying 14 of 14 matches:\n",
            " to hearing from you all . ABLE young man seeks , sexy older women . Phone for \n",
            "ble relationship . GENUINE ATTRACTIVE MAN 40 y . o ., no ties , secure , 5 ft .\n",
            "ship , and quality times . VIETNAMESE MAN Single , never married , financially \n",
            "ip . WELL DRESSED emotionally healthy man 37 like to meet full figured woman fo\n",
            " nth subs LIKE TO BE MISTRESS of YOUR MAN like to be treated well . Bold DTE no\n",
            "eeks lady in similar position MARRIED MAN 50 , attrac . fit , seeks lady 40 - 5\n",
            "eks nice girl 25 - 30 serious rship . Man 46 attractive fit , assertive , and k\n",
            " 40 - 50 sought by Aussie mid 40s b / man f / ship r / ship LOVE to meet widowe\n",
            "discreet times . Sth E Subs . MARRIED MAN 42yo 6ft , fit , seeks Lady for discr\n",
            "woman , seeks professional , employed man , with interests in theatre , dining \n",
            " tall and of large build seeks a good man . I am a nonsmoker , social drinker ,\n",
            "lead to relationship . SEEKING HONEST MAN I am 41 y . o ., 5 ft . 4 , med . bui\n",
            " quiet times . Seeks 35 - 45 , honest man with good SOH & similar interests , f\n",
            " genuine , caring , honest and normal man for fship , poss rship . S / S , S / \n"
          ]
        }
      ]
    },
    {
      "cell_type": "code",
      "source": [
        "text8.concordance(\"woman\")"
      ],
      "metadata": {
        "colab": {
          "base_uri": "https://localhost:8080/"
        },
        "id": "RIhtKykmhQZd",
        "outputId": "5ba56ea3-9d06-4cf3-82de-c46ee5586a94"
      },
      "execution_count": 71,
      "outputs": [
        {
          "output_type": "stream",
          "name": "stdout",
          "text": [
            "Displaying 11 of 11 matches:\n",
            "at home . Seeking an honest , caring woman , slim or med . build , who enjoys t\n",
            "thy man 37 like to meet full figured woman for relationship . 48 slim , shy , S\n",
            "rry . MALE 58 years old . Is there a Woman who would like to spend 1 weekend a \n",
            " other interests . Seeking Christian Woman for fship , view to rship . SWM 45 D\n",
            "ALE 60 - burly beared seeks intimate woman for outings n / s s / d F / ston / P\n",
            "ington . SCORPIO 47 seeks passionate woman for discreet intimate encounters SEX\n",
            "le dad . 42 , East sub . 5 \" 9 seeks woman 30 + for f / ship relationship TALL \n",
            "personal trainer looking for married woman age open for fun MARRIED Dark guy 37\n",
            "rinker , seeking slim - medium build woman who is happy in life , age open . AC\n",
            ". O . TERTIARY Educated professional woman , seeks professional , employed man \n",
            " real romantic , age 50 - 65 y . o . WOMAN OF SUBSTANCE 56 , 59 kg ., 50 , fit \n"
          ]
        }
      ]
    },
    {
      "cell_type": "code",
      "source": [
        "text8.dispersion_plot(\n",
        "    [\"woman\",\"lady\",\"girl\",\"gal\",\"man\",\"gentleman\",\"boy\",\"guy\"]\n",
        ")"
      ],
      "metadata": {
        "colab": {
          "base_uri": "https://localhost:8080/",
          "height": 295
        },
        "id": "qlJEQAZdhbn9",
        "outputId": "27bd773b-6dbf-4451-c02c-2406b0c3f8d9"
      },
      "execution_count": 72,
      "outputs": [
        {
          "output_type": "display_data",
          "data": {
            "image/png": "[encoded data removed]",
            "text/plain": [
              "<Figure size 432x288 with 1 Axes>"
            ]
          },
          "metadata": {
            "needs_background": "light"
          }
        }
      ]
    },
    {
      "cell_type": "code",
      "source": [
        "text2.dispersion_plot(\n",
        "    [\"Allenham\",\"Whitewell\",\"Cleveland\",\"Combe\"]\n",
        ")"
      ],
      "metadata": {
        "colab": {
          "base_uri": "https://localhost:8080/",
          "height": 295
        },
        "id": "dGrraT2Wh6rp",
        "outputId": "3ecfbe1b-78fe-4cf8-b3bd-b835a1e4a83f"
      },
      "execution_count": 73,
      "outputs": [
        {
          "output_type": "display_data",
          "data": {
            "image/png": "[encoded data removed]",
            "text/plain": [
              "<Figure size 432x288 with 1 Axes>"
            ]
          },
          "metadata": {
            "needs_background": "light"
          }
        }
      ]
    },
    {
      "cell_type": "markdown",
      "source": [
        "**Making a Frequency Distribution**"
      ],
      "metadata": {
        "id": "cw1yCIM_iZob"
      }
    },
    {
      "cell_type": "code",
      "source": [
        "from nltk import FreqDist"
      ],
      "metadata": {
        "id": "nliWjw11iPVG"
      },
      "execution_count": 75,
      "outputs": []
    },
    {
      "cell_type": "code",
      "source": [
        "frequency_distribution = FreqDist(text8)\n",
        "frequency_distribution"
      ],
      "metadata": {
        "colab": {
          "base_uri": "https://localhost:8080/"
        },
        "id": "xjMHGBB9iWZb",
        "outputId": "081eb5cf-16f0-473d-a019-c3bf08e94701"
      },
      "execution_count": 77,
      "outputs": [
        {
          "output_type": "execute_result",
          "data": {
            "text/plain": [
              "FreqDist({'25': 6,\n",
              "          'SEXY': 2,\n",
              "          'MALE': 15,\n",
              "          ',': 539,\n",
              "          'seeks': 60,\n",
              "          'attrac': 3,\n",
              "          'older': 4,\n",
              "          'single': 10,\n",
              "          'lady': 68,\n",
              "          'for': 99,\n",
              "          'discreet': 7,\n",
              "          'encounters': 3,\n",
              "          '.': 353,\n",
              "          '35YO': 1,\n",
              "          'Security': 1,\n",
              "          'Guard': 1,\n",
              "          'seeking': 14,\n",
              "          'in': 27,\n",
              "          'uniform': 1,\n",
              "          'fun': 28,\n",
              "          'times': 15,\n",
              "          '40': 16,\n",
              "          'yo': 10,\n",
              "          'SINGLE': 6,\n",
              "          'DAD': 2,\n",
              "          'sincere': 5,\n",
              "          'friendly': 4,\n",
              "          'DTE': 7,\n",
              "          'r': 14,\n",
              "          '/': 110,\n",
              "          'ship': 33,\n",
              "          'with': 44,\n",
              "          'fem': 4,\n",
              "          'age': 17,\n",
              "          'open': 14,\n",
              "          'S': 36,\n",
              "          'E': 3,\n",
              "          '44yo': 2,\n",
              "          'tall': 12,\n",
              "          'working': 4,\n",
              "          'mum': 3,\n",
              "          'or': 13,\n",
              "          'below': 1,\n",
              "          '45': 16,\n",
              "          'fship': 11,\n",
              "          'rship': 18,\n",
              "          'Nat': 1,\n",
              "          'Open': 1,\n",
              "          '6': 8,\n",
              "          '2': 8,\n",
              "          '35': 16,\n",
              "          'yr': 1,\n",
              "          'old': 4,\n",
              "          'OUTGOING': 2,\n",
              "          'M': 1,\n",
              "          '28': 2,\n",
              "          '-': 66,\n",
              "          'o': 26,\n",
              "          'door': 1,\n",
              "          'sports': 4,\n",
              "          'w': 2,\n",
              "          'e': 1,\n",
              "          'away': 4,\n",
              "          'A': 10,\n",
              "          'professional': 4,\n",
              "          'business': 2,\n",
              "          'male': 15,\n",
              "          'late': 3,\n",
              "          '40s': 8,\n",
              "          'feet': 1,\n",
              "          'slim': 27,\n",
              "          'build': 27,\n",
              "          'well': 9,\n",
              "          'groomed': 1,\n",
              "          'great': 3,\n",
              "          'personality': 3,\n",
              "          'home': 9,\n",
              "          'owner': 2,\n",
              "          'interests': 11,\n",
              "          'include': 2,\n",
              "          'the': 14,\n",
              "          'arts': 1,\n",
              "          'travel': 10,\n",
              "          'and': 74,\n",
              "          'all': 2,\n",
              "          'things': 5,\n",
              "          'good': 21,\n",
              "          'Ringwood': 1,\n",
              "          'area': 6,\n",
              "          'is': 11,\n",
              "          'a': 52,\n",
              "          'genuine': 11,\n",
              "          'female': 14,\n",
              "          'of': 14,\n",
              "          'similar': 10,\n",
              "          'same': 4,\n",
              "          'surrounds': 1,\n",
              "          'meaningful': 1,\n",
              "          'long': 9,\n",
              "          'term': 6,\n",
              "          'Looking': 16,\n",
              "          'forward': 2,\n",
              "          'to': 74,\n",
              "          'hearing': 1,\n",
              "          'from': 2,\n",
              "          'you': 6,\n",
              "          'ABLE': 1,\n",
              "          'young': 5,\n",
              "          'man': 7,\n",
              "          'sexy': 6,\n",
              "          'women': 2,\n",
              "          'Phone': 1,\n",
              "          'ready': 2,\n",
              "          'play': 1,\n",
              "          'AFFECTIONATE': 2,\n",
              "          'LADY': 13,\n",
              "          'Sought': 1,\n",
              "          'by': 7,\n",
              "          'generous': 4,\n",
              "          'guy': 13,\n",
              "          'mutual': 1,\n",
              "          'fulfillment': 1,\n",
              "          'ARE': 2,\n",
              "          'YOU': 3,\n",
              "          'ALONE': 1,\n",
              "          'lost': 1,\n",
              "          'too': 1,\n",
              "          'no': 13,\n",
              "          'hope': 1,\n",
              "          'sight': 1,\n",
              "          '?': 6,\n",
              "          'Maybe': 1,\n",
              "          'we': 2,\n",
              "          'could': 1,\n",
              "          'explore': 1,\n",
              "          'new': 3,\n",
              "          'beginnings': 1,\n",
              "          'together': 1,\n",
              "          'Im': 5,\n",
              "          'Slim': 2,\n",
              "          'Med': 2,\n",
              "          'GSOH': 14,\n",
              "          'high': 1,\n",
              "          'needs': 1,\n",
              "          'looking': 18,\n",
              "          'someone': 2,\n",
              "          'You': 2,\n",
              "          'WONT': 1,\n",
              "          'be': 13,\n",
              "          'disappointed': 1,\n",
              "          'AMIABLE': 1,\n",
              "          '43': 7,\n",
              "          'y': 23,\n",
              "          'gentleman': 5,\n",
              "          'European': 4,\n",
              "          'background': 2,\n",
              "          '170': 1,\n",
              "          'cm': 1,\n",
              "          'medium': 11,\n",
              "          'employed': 12,\n",
              "          'never': 3,\n",
              "          'married': 10,\n",
              "          'children': 8,\n",
              "          'Enjoys': 2,\n",
              "          'music': 13,\n",
              "          'cafes': 2,\n",
              "          'beach': 11,\n",
              "          '&': 30,\n",
              "          'c': 4,\n",
              "          'Seeks': 11,\n",
              "          'an': 7,\n",
              "          'honest': 20,\n",
              "          'attractive': 17,\n",
              "          'without': 1,\n",
              "          'who': 17,\n",
              "          'would': 9,\n",
              "          'like': 18,\n",
              "          'get': 1,\n",
              "          'have': 10,\n",
              "          'chil': 1,\n",
              "          'dren': 1,\n",
              "          'future': 2,\n",
              "          '29': 1,\n",
              "          '39': 4,\n",
              "          'Prefer': 2,\n",
              "          'non': 22,\n",
              "          'smoker': 23,\n",
              "          'living': 7,\n",
              "          'Adelaide': 2,\n",
              "          'COPPER': 1,\n",
              "          'REDHEAD': 1,\n",
              "          'I': 22,\n",
              "          'am': 7,\n",
              "          '36': 6,\n",
              "          'companionship': 2,\n",
              "          'friendship': 17,\n",
              "          'enjoy': 14,\n",
              "          'AFL': 2,\n",
              "          'animals': 3,\n",
              "          'dining': 19,\n",
              "          'out': 19,\n",
              "          'ATTRACTIVE': 8,\n",
              "          'Y': 3,\n",
              "          'O': 3,\n",
              "          '61': 1,\n",
              "          'financially': 4,\n",
              "          'secure': 8,\n",
              "          'up': 8,\n",
              "          'View': 2,\n",
              "          'permanent': 5,\n",
              "          'relationship': 29,\n",
              "          'GUY': 6,\n",
              "          'Late': 6,\n",
              "          '30s': 8,\n",
              "          '57': 5,\n",
              "          'Taurus': 1,\n",
              "          'Into': 1,\n",
              "          'fitness': 2,\n",
              "          'movies': 22,\n",
              "          'dinner': 3,\n",
              "          'parties': 2,\n",
              "          'there': 3,\n",
              "          'AUSSIE': 1,\n",
              "          'Solid': 1,\n",
              "          'likes': 11,\n",
              "          'walks': 9,\n",
              "          'on': 4,\n",
              "          'meet': 15,\n",
              "          'view': 6,\n",
              "          'AUSTRALIAN': 2,\n",
              "          'FATHER': 1,\n",
              "          '58': 4,\n",
              "          'With': 2,\n",
              "          '11': 3,\n",
              "          'son': 1,\n",
              "          'me': 6,\n",
              "          'nice': 3,\n",
              "          'caring': 12,\n",
              "          're': 1,\n",
              "          'lationship': 1,\n",
              "          'coastal': 1,\n",
              "          'town': 1,\n",
              "          'Eyre': 1,\n",
              "          'Peninsula': 1,\n",
              "          'Age': 4,\n",
              "          '55': 6,\n",
              "          'SLIM': 4,\n",
              "          'FUN': 1,\n",
              "          '5': 16,\n",
              "          'ft': 13,\n",
              "          '8': 3,\n",
              "          'Enjoy': 2,\n",
              "          'BBQs': 3,\n",
              "          'sport': 2,\n",
              "          'fishing': 8,\n",
              "          'going': 6,\n",
              "          'meal': 1,\n",
              "          'Fun': 2,\n",
              "          'com': 1,\n",
              "          'panion': 1,\n",
              "          'aged': 3,\n",
              "          'between': 2,\n",
              "          '50': 23,\n",
              "          'Must': 7,\n",
              "          'Possible': 2,\n",
              "          'BEAUTIFUL': 1,\n",
              "          'INTELLIGENT': 1,\n",
              "          'CARING': 4,\n",
              "          'MUSICAL': 1,\n",
              "          'Shy': 1,\n",
              "          '20s': 2,\n",
              "          'size': 3,\n",
              "          '12': 1,\n",
              "          'blonde': 1,\n",
              "          'hair': 3,\n",
              "          'drink': 1,\n",
              "          'Guiness': 1,\n",
              "          'If': 3,\n",
              "          'this': 2,\n",
              "          'then': 1,\n",
              "          'want': 1,\n",
              "          'BLONDE': 1,\n",
              "          'HAIR': 2,\n",
              "          'BLUE': 1,\n",
              "          'EYES': 1,\n",
              "          'Medium': 1,\n",
              "          'my': 4,\n",
              "          'early': 3,\n",
              "          'Am': 2,\n",
              "          'golf': 1,\n",
              "          'bike': 1,\n",
              "          'riding': 1,\n",
              "          'TV': 2,\n",
              "          'DVDs': 1,\n",
              "          'quiet': 10,\n",
              "          'nights': 9,\n",
              "          'at': 9,\n",
              "          'kissing': 1,\n",
              "          'cuddling': 1,\n",
              "          'special': 5,\n",
              "          'person': 4,\n",
              "          'life': 15,\n",
              "          'BUSINESSMAN': 4,\n",
              "          '60': 8,\n",
              "          \"''\": 14,\n",
              "          'ish': 2,\n",
              "          '56': 2,\n",
              "          'taller': 2,\n",
              "          'outlook': 3,\n",
              "          'ties': 5,\n",
              "          'prepared': 1,\n",
              "          'outdoor': 4,\n",
              "          '(': 4,\n",
              "          'cars': 3,\n",
              "          'boats': 1,\n",
              "          'etc': 3,\n",
              "          '.),': 1,\n",
              "          'wining': 2,\n",
              "          's': 24,\n",
              "          'h': 2,\n",
              "          'modern': 1,\n",
              "          'CUDDLY': 1,\n",
              "          'FULL': 1,\n",
              "          'FIGURED': 1,\n",
              "          'plus': 2,\n",
              "          'sought': 6,\n",
              "          'Australian': 2,\n",
              "          'gent': 6,\n",
              "          '60s': 2,\n",
              "          'drinker': 13,\n",
              "          'FIT': 5,\n",
              "          'ACTIVE': 2,\n",
              "          'EASYGOING': 2,\n",
              "          'med': 7,\n",
              "          'fit': 14,\n",
              "          'healthy': 6,\n",
              "          'fully': 1,\n",
              "          'light': 2,\n",
              "          'Seeking': 9,\n",
              "          'friend': 3,\n",
              "          '+.': 1,\n",
              "          'towards': 1,\n",
              "          'Give': 1,\n",
              "          'call': 1,\n",
              "          'lets': 2,\n",
              "          'chat': 1,\n",
              "          'GENUINE': 2,\n",
              "          'AND': 2,\n",
              "          'HONEST': 2,\n",
              "          'Hi': 2,\n",
              "          '44': 2,\n",
              "          'sense': 4,\n",
              "          'humour': 5,\n",
              "          'romantic': 4,\n",
              "          'love': 6,\n",
              "          'drives': 7,\n",
              "          'camping': 3,\n",
              "          'Love': 2,\n",
              "          'kids': 5,\n",
              "          '38': 5,\n",
              "          'possible': 5,\n",
              "          'MAN': 6,\n",
              "          '.,': 9,\n",
              "          '9': 2,\n",
              "          'outdoors': 6,\n",
              "          'gym': 2,\n",
              "          'country': 9,\n",
              "          'woman': 8,\n",
              "          'enjoys': 9,\n",
              "          'simple': 1,\n",
              "          'GOOD': 2,\n",
              "          'LISTENER': 1,\n",
              "          'Well': 1,\n",
              "          'educated': 1,\n",
              "          'blue': 2,\n",
              "          'eyes': 1,\n",
              "          'brown': 1,\n",
              "          'Mid': 3,\n",
              "          'n': 11,\n",
              "          'Likes': 5,\n",
              "          'looks': 2,\n",
              "          'not': 5,\n",
              "          'important': 1,\n",
              "          'nor': 1,\n",
              "          'distance': 1,\n",
              "          'speed': 1,\n",
              "          'complete': 1,\n",
              "          'social': 12,\n",
              "          'circles': 1,\n",
              "          'GREEK': 4,\n",
              "          'AUST': 2,\n",
              "          'Early': 2,\n",
              "          'bbqs': 1,\n",
              "          'football': 1,\n",
              "          '20': 2,\n",
              "          '30': 13,\n",
              "          'HANDSOME': 1,\n",
              "          'Tall': 1,\n",
              "          'independant': 2,\n",
              "          'under': 4,\n",
              "          'standing': 1,\n",
              "          'mid': 4,\n",
              "          '50s': 2,\n",
              "          'classy': 3,\n",
              "          'wants': 1,\n",
              "          'retain': 2,\n",
              "          'her': 2,\n",
              "          'privacy': 1,\n",
              "          'still': 1,\n",
              "          'independance': 1,\n",
              "          'private': 1,\n",
              "          'HERE': 1,\n",
              "          'AM': 1,\n",
              "          'PICK': 2,\n",
              "          'ME': 4,\n",
              "          '!': 6,\n",
              "          'Now': 1,\n",
              "          'that': 1,\n",
              "          'your': 1,\n",
              "          'attention': 1,\n",
              "          '59': 3,\n",
              "          'active': 2,\n",
              "          'LIMESTONE': 1,\n",
              "          'COAST': 1,\n",
              "          'REGION': 1,\n",
              "          'Attractive': 4,\n",
              "          '46': 4,\n",
              "          'Interests': 5,\n",
              "          'incl': 2,\n",
              "          'self': 5,\n",
              "          'sufficiencies': 1,\n",
              "          'permaculture': 1,\n",
              "          'smoking': 1,\n",
              "          'loving': 6,\n",
              "          'LATE': 1,\n",
              "          'Single': 3,\n",
              "          'prof': 6,\n",
              "          ':': 6,\n",
              "          'Music': 1,\n",
              "          'theatre': 4,\n",
              "          'art': 1,\n",
              "          'environment': 1,\n",
              "          'share': 8,\n",
              "          'concerts': 1,\n",
              "          'unimportant': 1,\n",
              "          'RETIRED': 1,\n",
              "          'GENT': 4,\n",
              "          'Like': 1,\n",
              "          'caravan': 1,\n",
              "          'heading': 1,\n",
              "          'Darwin': 1,\n",
              "          'May': 1,\n",
              "          'driving': 1,\n",
              "          'ROMANTIC': 3,\n",
              "          'one': 1,\n",
              "          'child': 1,\n",
              "          'year': 2,\n",
              "          'Clare': 1,\n",
              "          'Barossa': 1,\n",
              "          'region': 1,\n",
              "          'northern': 1,\n",
              "          'suburbs': 5,\n",
              "          'TALL': 3,\n",
              "          'down': 3,\n",
              "          'earth': 3,\n",
              "          'easy': 4,\n",
              "          'understanding': 1,\n",
              "          'varied': 1,\n",
              "          'quality': 2,\n",
              "          'VIETNAMESE': 1,\n",
              "          'welcome': 4,\n",
              "          'WIDOW': 1,\n",
              "          'EARLY': 2,\n",
              "          'Self': 2,\n",
              "          'established': 1,\n",
              "          'UK': 1,\n",
              "          'born': 1,\n",
              "          'many': 3,\n",
              "          'Sports': 2,\n",
              "          'short': 2,\n",
              "          'petite': 3,\n",
              "          'any': 4,\n",
              "          'years': 5,\n",
              "          '31': 1,\n",
              "          'YO': 1,\n",
              "          'ok': 2,\n",
              "          'Eastern': 1,\n",
              "          'Suburbs': 4,\n",
              "          'Male': 12,\n",
              "          'blond': 1,\n",
              "          'outgoing': 3,\n",
              "          'bet': 1,\n",
              "          'easygoing': 3,\n",
              "          'YEAR': 1,\n",
              "          'OLD': 2,\n",
              "          'Working': 1,\n",
              "          'Would': 5,\n",
              "          'CENTRAL': 1,\n",
              "          'VICTORIAN': 1,\n",
              "          'Dad': 1,\n",
              "          'teen': 1,\n",
              "          'daughters': 1,\n",
              "          'HEALTHY': 1,\n",
              "          'emp': 1,\n",
              "          'tradesman': 1,\n",
              "          'NS': 5,\n",
              "          'Indian': 2,\n",
              "          'Sri': 1,\n",
              "          'Lankan': 1,\n",
              "          'Olive': 1,\n",
              "          'Dark': 2,\n",
              "          'Complexion': 1,\n",
              "          '48': 5,\n",
              "          'F': 4,\n",
              "          'dship': 1,\n",
              "          'Poss': 2,\n",
              "          'rel': 1,\n",
              "          'MATURE': 1,\n",
              "          'N': 12,\n",
              "          'Non': 3,\n",
              "          'Asian': 5,\n",
              "          'Sexy': 1,\n",
              "          'WELL': 1,\n",
              "          'DRESSED': 1,\n",
              "          'emotionally': 1,\n",
              "          '37': 4,\n",
              "          'full': 2,\n",
              "          'figured': 1,\n",
              "          'shy': 1,\n",
              "          'D': 12,\n",
              "          'NRL': 1,\n",
              "          'nature': 1,\n",
              "          'time': 3,\n",
              "          'DtoE': 5,\n",
              "          'SOH': 4,\n",
              "          'Fship': 3,\n",
              "          'poss': 11,\n",
              "          'Rship': 1,\n",
              "          'replies': 2,\n",
              "          'only': 1,\n",
              "          'ALA': 2,\n",
              "          'Lots': 1,\n",
              "          'friends': 1,\n",
              "          'but': 4,\n",
              "          'lonely': 2,\n",
              "          '57YRS': 1,\n",
              "          'WLTM': 11,\n",
              "          'Lady': 7,\n",
              "          'outings': 5,\n",
              "          'weekends': 3,\n",
              "          'perm': 2,\n",
              "          'if': 2,\n",
              "          'suited': 1,\n",
              "          'Nationality': 1,\n",
              "          '34yo': 1,\n",
              "          'tractive': 1,\n",
              "          'Ladies': 1,\n",
              "          'are': 3,\n",
              "          'poor': 1,\n",
              "          'work': 2,\n",
              "          'career': 1,\n",
              "          'Have': 1,\n",
              "          'always': 1,\n",
              "          'connected': 1,\n",
              "          'more': 1,\n",
              "          'Women': 1,\n",
              "          'TAINING': 1,\n",
              "          'interesting': 1,\n",
              "          '46yo': 1,\n",
              "          'Prof': 2,\n",
              "          'Kind': 1,\n",
              "          'listener': 2,\n",
              "          'having': 1,\n",
              "          'Witty': 1,\n",
              "          'humorous': 1,\n",
              "          'comb': 1,\n",
              "          'responsible': 2,\n",
              "          'reading': 2,\n",
              "          'being': 3,\n",
              "          'company': 3,\n",
              "          'beginning': 1,\n",
              "          'exciting': 2,\n",
              "          '57yrs': 1,\n",
              "          '177cm': 1,\n",
              "          'meeting': 1,\n",
              "          'sim': 2,\n",
              "          'int': 2,\n",
              "          'Please': 1,\n",
              "          'send': 1,\n",
              "          'photo': 2,\n",
              "          'GENTLEMAN': 1,\n",
              "          'cooking': 2,\n",
              "          'house': 2,\n",
              "          'gardening': 5,\n",
              "          'wild': 1,\n",
              "          'HI': 1,\n",
              "          'SWM': 3,\n",
              "          '54y': 1,\n",
              "          'nts': 1,\n",
              "          'supporting': 1,\n",
              "          'happy': 3,\n",
              "          'nat': 1,\n",
              "          'pamper': 1,\n",
              "          'roll': 1,\n",
              "          'loves': 4,\n",
              "          'hurry': 1,\n",
              "          'Is': 1,\n",
              "          'Woman': 2,\n",
              "          'spend': 1,\n",
              "          '1': 2,\n",
              "          'weekend': 2,\n",
              "          'month': 1,\n",
              "          'Charters': 1,\n",
              "          'Towers': 1,\n",
              "          'especially': 1,\n",
              "          'festival': 1,\n",
              "          'so': 2,\n",
              "          'please': 3,\n",
              "          'write': 1,\n",
              "          'Ref': 1,\n",
              "          '8826': 1,\n",
              "          'PROFESSIONAL': 1,\n",
              "          'walking': 2,\n",
              "          'bch': 2,\n",
              "          'amongst': 1,\n",
              "          'other': 3,\n",
              "          'Christian': 1,\n",
              "          '178cm': 1,\n",
              "          '79kg': 1,\n",
              "          'Clean': 1,\n",
              "          'cut': 1,\n",
              "          'intelligent': 3,\n",
              "          'natur': 1,\n",
              "          'ist': 1,\n",
              "          'minded': 1,\n",
              "          'red': 1,\n",
              "          'hd': 1,\n",
              "          'brunette': 2,\n",
              "          'eurasian': 1,\n",
              "          'Home': 1,\n",
              "          'My': 2,\n",
              "          '70': 1,\n",
              "          'yrs': 4,\n",
              "          'reliable': 3,\n",
              "          'ASIAN': 5,\n",
              "          '+': 7,\n",
              "          'SOUGHT': 1,\n",
              "          'BY': 1,\n",
              "          'Aussie': 4,\n",
              "          'R': 4,\n",
              "          'Kids': 1,\n",
              "          'OK': 3,\n",
              "          'as': 1,\n",
              "          'family': 3,\n",
              "          'Nice': 1,\n",
              "          'Businessman': 1,\n",
              "          'f': 13,\n",
              "          'ATHLETIC': 1,\n",
              "          'gen': 3,\n",
              "          'Morn': 1,\n",
              "          'Pen': 2,\n",
              "          'Are': 2,\n",
              "          '50yo': 3,\n",
              "          'SD': 1,\n",
              "          'Caring': 1,\n",
              "          'thats': 1,\n",
              "          'seek': 1,\n",
              "          'ing': 4,\n",
              "          'casual': 6,\n",
              "          'meetings': 4,\n",
              "          'mature': 1,\n",
              "          'ladies': 1,\n",
              "          'BRIGHT': 1,\n",
              "          'Boy': 1,\n",
              "          'brain': 1,\n",
              "          'cook': 1,\n",
              "          'Physique': 1,\n",
              "          '42': 6,\n",
              "          'fair': 1,\n",
              "          'd': 3,\n",
              "          'lunch': 1,\n",
              "          'converse': 1,\n",
              "          'Essendon': 1,\n",
              "          'inner': 2,\n",
              "          'Bright': 1,\n",
              "          'positive': 1,\n",
              "          'LOVING': 1,\n",
              "          'Female': 1,\n",
              "          'dressed': 1,\n",
              "          'rom': 1,\n",
              "          'elegance': 1,\n",
              "          'CASUAL': 1,\n",
              "          'weekday': 1,\n",
              "          'obligation': 1,\n",
              "          'East': 4,\n",
              "          'EUROPEAN': 1,\n",
              "          '36yo': 1,\n",
              "          'MARRIED': 9,\n",
              "          'attr': 3,\n",
              "          'encounter': 1,\n",
              "          '41yo': 1,\n",
              "          'Greek': 2,\n",
              "          '37yrs': 1,\n",
              "          'Good': 3,\n",
              "          'larger': 1,\n",
              "          'Preferably': 1,\n",
              "          'nth': 1,\n",
              "          'subs': 4,\n",
              "          'LIKE': 1,\n",
              "          'TO': 5,\n",
              "          'BE': 2,\n",
              "          'MISTRESS': 1,\n",
              "          'YOUR': 1,\n",
              "          'treated': 1,\n",
              "          'Bold': 1,\n",
              "          'precious': 1,\n",
              "          'available': 1,\n",
              "          'during': 1,\n",
              "          'day': 1,\n",
              "          'appreciate': 1,\n",
              "          'Lets': 1,\n",
              "          'Talk': 1,\n",
              "          ')': 1,\n",
              "          'LJ': 1,\n",
              "          'JS': 1,\n",
              "          'Bayswater': 1,\n",
              "          'Be': 1,\n",
              "          'mine': 1,\n",
              "          '26': 1,\n",
              "          'South': 1,\n",
              "          'burly': 1,\n",
              "          'beared': 1,\n",
              "          'intimate': 3,\n",
              "          'ston': 1,\n",
              "          'MID': 1,\n",
              "          'strings': 1,\n",
              "          'attached': 1,\n",
              "          'HANDYMAN': 1,\n",
              "          'missing': 2,\n",
              "          'TLC': 1,\n",
              "          'position': 1,\n",
              "          'MT': 1,\n",
              "          'ELIZA': 1,\n",
              "          'Business': 1,\n",
              "          'gorg': 1,\n",
              "          'passion': 1,\n",
              "          'running': 1,\n",
              "          'LTR': 1,\n",
              "          'girl': 1,\n",
              "          'serious': 1,\n",
              "          'Man': 1,\n",
              "          'assertive': 1,\n",
              "          'kind': 1,\n",
              "          'stylish': 1,\n",
              "          'For': 1,\n",
              "          'wine': 3,\n",
              "          'Northcote': 1,\n",
              "          'Married': 2,\n",
              "          'Call': 1,\n",
              "          'PROF': 1,\n",
              "          '68': 1,\n",
              "          'Mornington': 1,\n",
              "          'SCORPIO': 1,\n",
              "          '47': 6,\n",
              "          'passionate': 1,\n",
              "          'affair': 2,\n",
              "          '6ft': 3,\n",
              "          '95': 1,\n",
              "          'kg': 2,\n",
              "          'def': 1,\n",
              "          'Knox': 1,\n",
              "          '4WD': 1,\n",
              "          '49': 3,\n",
              "          'Fe': 1,\n",
              "          'Ok': 1,\n",
              "          'pref': 2,\n",
              "          'STERN': 1,\n",
              "          'HEADMASTER': 1,\n",
              "          'firm': 1,\n",
              "          'hand': 1,\n",
              "          'naughty': 1,\n",
              "          'Sgl': 1,\n",
              "          'ave': 1,\n",
              "          'bi': 1,\n",
              "          'curious': 1,\n",
              "          'dad': 1,\n",
              "          'sub': 1,\n",
              "          '\"': 1,\n",
              "          'FAIR': 1,\n",
              "          'affectionate': 2,\n",
              "          'loyal': 2,\n",
              "          'WANT': 1,\n",
              "          'SPOILT': 1,\n",
              "          'Warm': 1,\n",
              "          'natural': 2,\n",
              "          'sgl': 2,\n",
              "          '38yo': 1,\n",
              "          'YOUNG': 1,\n",
              "          'girls': 1,\n",
              "          '23': 1,\n",
              "          'YR': 1,\n",
              "          'attract': 1,\n",
              "          'uni': 1,\n",
              "          'student': 1,\n",
              "          'daytime': 1,\n",
              "          'FRIEND': 1,\n",
              "          'LOVER': 2,\n",
              "          'find': 1,\n",
              "          'presented': 3,\n",
              "          'athletic': 1,\n",
              "          'cuddly': 1,\n",
              "          'ATTRACT': 1,\n",
              "          '32': 4,\n",
              "          'younger': 1,\n",
              "          '18': 1,\n",
              "          '27': 1,\n",
              "          '52': 3,\n",
              "          'Aust': 2,\n",
              "          'GOSH': 1,\n",
              "          'busty': 1,\n",
              "          'curvaceous': 1,\n",
              "          'DISCIPLINARIAN': 1,\n",
              "          'Euro': 1,\n",
              "          'Guy': 3,\n",
              "          'Nth': 1,\n",
              "          'Subs': 2,\n",
              "          'into': 3,\n",
              "          'Genuine': 2,\n",
              "          '52yo': 1,\n",
              "          'HARLEY': 1,\n",
              "          'RIDER': 1,\n",
              "          'HERPES': 1,\n",
              "          'dinners': 2,\n",
              "          'JAPANESE': 1,\n",
              "          'b': 1,\n",
              "          'LOVE': 2,\n",
              "          'widowed': 1,\n",
              "          'over': 1,\n",
              "          'North': 1,\n",
              "          'West': 1,\n",
              "          '34': 1,\n",
              "          'travels': 1,\n",
              "          'lot': 1,\n",
              "          'personal': 1,\n",
              "          'trainer': 1,\n",
              "          'Sth': 1,\n",
              "          '42yo': 1,\n",
              "          'olive': 1,\n",
              "          'skin': 1,\n",
              "          'dog': 1,\n",
              "          'thinks': 1,\n",
              "          'he': 1,\n",
              "          'human': 1,\n",
              "          'partner': 2,\n",
              "          'spoilt': 1,\n",
              "          'commitment': 1,\n",
              "          'OLDER': 1,\n",
              "          'relation': 2,\n",
              "          'adventure': 2,\n",
              "          'NICE': 1,\n",
              "          'GUYS': 1,\n",
              "          'Aged': 1,\n",
              "          'two': 1,\n",
              "          'females': 1,\n",
              "          'night': 1,\n",
              "          'clubbing': 1,\n",
              "          'COUNTRY': 2,\n",
              "          'BOY': 1,\n",
              "          '+,': 1,\n",
              "          'soh': 2,\n",
              "          'Harley': 1,\n",
              "          'rider': 1,\n",
              "          'semi': 1,\n",
              "          'retired': 1,\n",
              "          'LITTLE': 1,\n",
              "          'MAGIC': 1,\n",
              "          'articulate': 3,\n",
              "          'conversation': 3,\n",
              "          'little': 1,\n",
              "          'green': 1,\n",
              "          'eyed': 1,\n",
              "          'ABOUND': 1,\n",
              "          'CAREFREE': 1,\n",
              "          'Vibrant': 2,\n",
              "          'creative': 1,\n",
              "          'adventurous': 2,\n",
              "          'executive': 1,\n",
              "          'very': 2,\n",
              "          'flexible': 1,\n",
              "          'laugh': 1,\n",
              "          'contrasts': 1,\n",
              "          'finer': 1,\n",
              "          'outlooks': 1,\n",
              "          'ABOUT': 2,\n",
              "          'Easygoing': 2,\n",
              "          '511': 2,\n",
              "          'YEARS': 1,\n",
              "          'Southern': 2,\n",
              "          'lifestyle': 1,\n",
              "          'ADELAIDE': 1,\n",
              "          'HILLS': 1,\n",
              "          'ADVENTUROUS': 1,\n",
              "          'sensitive': 1,\n",
              "          'vegetarian': 2,\n",
              "          '\",': 2,\n",
              "          'travelled': 1,\n",
              "          'AGED': 1,\n",
              "          'dark': 2,\n",
              "          'Interested': 1,\n",
              "          'basketball': 1,\n",
              "          'cricket': 1,\n",
              "          '10': 2,\n",
              "          'pin': 1,\n",
              "          'bowling': 1,\n",
              "          'SANFL': 1,\n",
              "          'travelling': 2,\n",
              "          'nightclubs': 1,\n",
              "          'TERTIARY': 1,\n",
              "          'Educated': 1,\n",
              "          '53': 3,\n",
              "          'V8': 1,\n",
              "          'motor': 1,\n",
              "          'racing': 2,\n",
              "          '65': 3,\n",
              "          'EMPLOYED': 1,\n",
              "          'haired': 1,\n",
              "          'strictly': 1,\n",
              "          '41': 2,\n",
              "          'No': 2,\n",
              "          'normal': 2,\n",
              "          'hours': 1,\n",
              "          'near': 1,\n",
              "          'City': 1,\n",
              "          'EASY': 1,\n",
              "          'GOING': 1,\n",
              "          'Intelligent': 1,\n",
              "          'exercise': 1,\n",
              "          'daily': 1,\n",
              "          'trustworthy': 1,\n",
              "          'integrity': 1,\n",
              "          'morals': 1,\n",
              "          'Children': 1,\n",
              "          'BALLROOM': 1,\n",
              "          'DANCING': 2,\n",
              "          'SEEKING': 2,\n",
              "          'PARTNER': 1,\n",
              "          'Me': 1,\n",
              "          'slimmish': 1,\n",
              "          'after': 1,\n",
              "          'dancing': 4,\n",
              "          'again': 1,\n",
              "          'must': 2,\n",
              "          'than': 1,\n",
              "          'avoid': 1,\n",
              "          'complications': 1,\n",
              "          'unattached': 1,\n",
              "          'CITY': 1,\n",
              "          'GIRL': 1,\n",
              "          'SEEKS': 1,\n",
              "          'ROMANCE': 1,\n",
              "          'farmer': 1,\n",
              "          'land': 1,\n",
              "          '),': 2,\n",
              "          'clean': 1,\n",
              "          'shaven': 1,\n",
              "          'strong': 1,\n",
              "          'values': 1,\n",
              "          'Other': 1,\n",
              "          'callers': 1,\n",
              "          'reply': 2,\n",
              "          'DO': 1,\n",
              "          'DANCE': 1,\n",
              "          'Rock': 1,\n",
              "          'Roll': 1,\n",
              "          'dance': 2,\n",
              "          'Friendship': 3,\n",
              "          'maybe': 2,\n",
              "          'leading': 1,\n",
              "          '510': 1,\n",
              "          'western': 1,\n",
              "          'southern': 1,\n",
              "          '5ft': 1,\n",
              "          'large': 1,\n",
              "          'nonsmoker': 1,\n",
              "          'mother': 1,\n",
              "          '15': 1,\n",
              "          'boy': 1,\n",
              "          'Lives': 1,\n",
              "          'NE': 1,\n",
              "          'FEISTY': 1,\n",
              "          'FOXY': 1,\n",
              "          'YUMMY': 1,\n",
              "          'GRANDMUMMY': 1,\n",
              "          'laughter': 1,\n",
              "          'least': 1,\n",
              "          'enough': 2,\n",
              "          'comfortable': 2,\n",
              "          'just': 1,\n",
              "          'watch': 1,\n",
              "          'fanatical': 1,\n",
              "          ...})"
            ]
          },
          "metadata": {},
          "execution_count": 77
        }
      ]
    },
    {
      "cell_type": "code",
      "source": [
        "frequency_distribution.most_common(20)"
      ],
      "metadata": {
        "colab": {
          "base_uri": "https://localhost:8080/"
        },
        "id": "g2ZT61zmiz00",
        "outputId": "02969efb-3908-484d-c038-3267d2e542f7"
      },
      "execution_count": 78,
      "outputs": [
        {
          "output_type": "execute_result",
          "data": {
            "text/plain": [
              "[(',', 539),\n",
              " ('.', 353),\n",
              " ('/', 110),\n",
              " ('for', 99),\n",
              " ('and', 74),\n",
              " ('to', 74),\n",
              " ('lady', 68),\n",
              " ('-', 66),\n",
              " ('seeks', 60),\n",
              " ('a', 52),\n",
              " ('with', 44),\n",
              " ('S', 36),\n",
              " ('ship', 33),\n",
              " ('&', 30),\n",
              " ('relationship', 29),\n",
              " ('fun', 28),\n",
              " ('in', 27),\n",
              " ('slim', 27),\n",
              " ('build', 27),\n",
              " ('o', 26)]"
            ]
          },
          "metadata": {},
          "execution_count": 78
        }
      ]
    },
    {
      "cell_type": "code",
      "source": [
        "meaningful_words = [\n",
        "                 word for word in text8 if word.casefold() not in stop_words\n",
        "]"
      ],
      "metadata": {
        "id": "pWHw0OIGi9Td"
      },
      "execution_count": 81,
      "outputs": []
    },
    {
      "cell_type": "code",
      "source": [
        "frequency_distribution = FreqDist(meaningful_words)\n",
        "frequency_distribution.most_common(20)"
      ],
      "metadata": {
        "colab": {
          "base_uri": "https://localhost:8080/"
        },
        "id": "XXjn1sBljTXU",
        "outputId": "1f1a6f69-2c06-4cc5-a41f-8dcab307102a"
      },
      "execution_count": 84,
      "outputs": [
        {
          "output_type": "execute_result",
          "data": {
            "text/plain": [
              "[(',', 539),\n",
              " ('.', 353),\n",
              " ('/', 110),\n",
              " ('lady', 68),\n",
              " ('-', 66),\n",
              " ('seeks', 60),\n",
              " ('ship', 33),\n",
              " ('&', 30),\n",
              " ('relationship', 29),\n",
              " ('fun', 28),\n",
              " ('slim', 27),\n",
              " ('build', 27),\n",
              " ('smoker', 23),\n",
              " ('50', 23),\n",
              " ('non', 22),\n",
              " ('movies', 22),\n",
              " ('good', 21),\n",
              " ('honest', 20),\n",
              " ('dining', 19),\n",
              " ('rship', 18)]"
            ]
          },
          "metadata": {},
          "execution_count": 84
        }
      ]
    },
    {
      "cell_type": "code",
      "source": [
        "frequency_distribution.plot(20, cumulative = True)"
      ],
      "metadata": {
        "colab": {
          "base_uri": "https://localhost:8080/",
          "height": 328
        },
        "id": "fGENg_bCl1f1",
        "outputId": "fe8d86d8-c89a-4a8a-90a9-4fe571ee2a83"
      },
      "execution_count": 85,
      "outputs": [
        {
          "output_type": "display_data",
          "data": {
            "image/png": "[encoded data removed]",
            "text/plain": [
              "<Figure size 432x288 with 1 Axes>"
            ]
          },
          "metadata": {
            "needs_background": "light"
          }
        }
      ]
    },
    {
      "cell_type": "code",
      "source": [
        "text8.collocations()"
      ],
      "metadata": {
        "colab": {
          "base_uri": "https://localhost:8080/"
        },
        "id": "s2OMIl6gmLnG",
        "outputId": "044b281e-5f00-411c-c424-fa08ffad3a44"
      },
      "execution_count": 86,
      "outputs": [
        {
          "output_type": "stream",
          "name": "stdout",
          "text": [
            "would like; medium build; social drinker; quiet nights; non smoker;\n",
            "long term; age open; Would like; easy going; financially secure; fun\n",
            "times; similar interests; Age open; weekends away; poss rship; well\n",
            "presented; never married; single mum; permanent relationship; slim\n",
            "build\n"
          ]
        }
      ]
    },
    {
      "cell_type": "code",
      "source": [
        "lemmatized_words = [lemmatizer.lemmatize(word) for word in text8]"
      ],
      "metadata": {
        "id": "ZzGy5ZMImbsB"
      },
      "execution_count": 89,
      "outputs": []
    },
    {
      "cell_type": "code",
      "source": [
        "new_text = nltk.Text(lemmatized_words)"
      ],
      "metadata": {
        "id": "73CoWfZSmrUs"
      },
      "execution_count": 90,
      "outputs": []
    },
    {
      "cell_type": "code",
      "source": [
        "new_text.collocations()"
      ],
      "metadata": {
        "colab": {
          "base_uri": "https://localhost:8080/"
        },
        "id": "hVhzpxDnmrdt",
        "outputId": "1c42fa9b-a196-4cb0-d2f6-f2688fe8a315"
      },
      "execution_count": 91,
      "outputs": [
        {
          "output_type": "stream",
          "name": "stdout",
          "text": [
            "medium build; social drinker; non smoker; quiet night; long term;\n",
            "would like; age open; easy going; financially secure; Would like; fun\n",
            "time; similar interest; Age open; weekend away; well presented; never\n",
            "married; single mum; permanent relationship; year old; slim build\n"
          ]
        }
      ]
    },
    {
      "cell_type": "code",
      "source": [
        ""
      ],
      "metadata": {
        "id": "630_vOMWmrm_"
      },
      "execution_count": null,
      "outputs": []
    },
    {
      "cell_type": "code",
      "source": [
        ""
      ],
      "metadata": {
        "id": "J1QVEshEmrul"
      },
      "execution_count": null,
      "outputs": []
    }
  ]
}